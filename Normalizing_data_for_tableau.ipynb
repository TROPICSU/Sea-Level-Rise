{
  "nbformat": 4,
  "nbformat_minor": 0,
  "metadata": {
    "colab": {
      "name": "Normalizing data for tableau.ipynb",
      "provenance": [],
      "collapsed_sections": []
    },
    "kernelspec": {
      "name": "python3",
      "display_name": "Python 3"
    },
    "language_info": {
      "name": "python"
    }
  },
  "cells": [
    {
      "cell_type": "code",
      "metadata": {
        "id": "mLFFp0Qh0tXp"
      },
      "source": [
        "#importing libraries \n",
        "import numpy as np \n",
        "import pandas as pd \n",
        "import plotly.express as px\n",
        "import plotly.graph_objects as go\n",
        "import seaborn as sns\n",
        "import matplotlib.pyplot as plt\n",
        "%matplotlib inline"
      ],
      "execution_count": 1,
      "outputs": []
    },
    {
      "cell_type": "code",
      "metadata": {
        "id": "GDykQPrv00XX"
      },
      "source": [
        "import warnings\n",
        "warnings.filterwarnings(\"ignore\")"
      ],
      "execution_count": 3,
      "outputs": []
    },
    {
      "cell_type": "code",
      "metadata": {
        "colab": {
          "base_uri": "https://localhost:8080/",
          "height": 238
        },
        "id": "1eKmnOAF03pB",
        "outputId": "42aec2ed-aeaf-41bb-d45f-93920dc355f4"
      },
      "source": [
        "#Loading the Dataset\n",
        "data = pd.read_csv('Agriculture data.csv', sep=',')\n",
        "data.head() "
      ],
      "execution_count": null,
      "outputs": [
        {
          "output_type": "execute_result",
          "data": {
            "text/html": [
              "<div>\n",
              "<style scoped>\n",
              "    .dataframe tbody tr th:only-of-type {\n",
              "        vertical-align: middle;\n",
              "    }\n",
              "\n",
              "    .dataframe tbody tr th {\n",
              "        vertical-align: top;\n",
              "    }\n",
              "\n",
              "    .dataframe thead th {\n",
              "        text-align: right;\n",
              "    }\n",
              "</style>\n",
              "<table border=\"1\" class=\"dataframe\">\n",
              "  <thead>\n",
              "    <tr style=\"text-align: right;\">\n",
              "      <th></th>\n",
              "      <th>Country Name</th>\n",
              "      <th>Total Area(sq.km)</th>\n",
              "      <th>1 meter-Impacted Agriculture Extent (in sq.km.)</th>\n",
              "      <th>5 meter- Impacted Agriculture Extent (in sq.km.)</th>\n",
              "      <th>1 meter-% impacted</th>\n",
              "      <th>5 meter-% impacted</th>\n",
              "    </tr>\n",
              "  </thead>\n",
              "  <tbody>\n",
              "    <tr>\n",
              "      <th>0</th>\n",
              "      <td>Global</td>\n",
              "      <td>18202873</td>\n",
              "      <td>71621</td>\n",
              "      <td>380965</td>\n",
              "      <td>0.393460</td>\n",
              "      <td>2.092884</td>\n",
              "    </tr>\n",
              "    <tr>\n",
              "      <th>1</th>\n",
              "      <td>Latin American/Carribean</td>\n",
              "      <td>4889156</td>\n",
              "      <td>16821</td>\n",
              "      <td>87126</td>\n",
              "      <td>0.344047</td>\n",
              "      <td>1.782025</td>\n",
              "    </tr>\n",
              "    <tr>\n",
              "      <th>2</th>\n",
              "      <td>Argentina</td>\n",
              "      <td>119236</td>\n",
              "      <td>4518</td>\n",
              "      <td>22184</td>\n",
              "      <td>3.789124</td>\n",
              "      <td>18.605119</td>\n",
              "    </tr>\n",
              "    <tr>\n",
              "      <th>3</th>\n",
              "      <td>Bahamas</td>\n",
              "      <td>4546</td>\n",
              "      <td>204</td>\n",
              "      <td>1801</td>\n",
              "      <td>4.487462</td>\n",
              "      <td>39.617246</td>\n",
              "    </tr>\n",
              "    <tr>\n",
              "      <th>4</th>\n",
              "      <td>Belize</td>\n",
              "      <td>6306</td>\n",
              "      <td>60</td>\n",
              "      <td>534</td>\n",
              "      <td>0.951475</td>\n",
              "      <td>8.468126</td>\n",
              "    </tr>\n",
              "  </tbody>\n",
              "</table>\n",
              "</div>"
            ],
            "text/plain": [
              "               Country Name  ...  5 meter-% impacted\n",
              "0                    Global  ...            2.092884\n",
              "1  Latin American/Carribean  ...            1.782025\n",
              "2                 Argentina  ...           18.605119\n",
              "3                   Bahamas  ...           39.617246\n",
              "4                    Belize  ...            8.468126\n",
              "\n",
              "[5 rows x 6 columns]"
            ]
          },
          "metadata": {
            "tags": []
          },
          "execution_count": 3
        }
      ]
    },
    {
      "cell_type": "code",
      "metadata": {
        "colab": {
          "base_uri": "https://localhost:8080/"
        },
        "id": "kVnrHhgS1zQh",
        "outputId": "a9d7f8b5-27b6-41fa-d6e9-2a776b7ab0bc"
      },
      "source": [
        "# to check data-type and null values in all columns\n",
        "data.info() "
      ],
      "execution_count": null,
      "outputs": [
        {
          "output_type": "stream",
          "text": [
            "<class 'pandas.core.frame.DataFrame'>\n",
            "RangeIndex: 90 entries, 0 to 89\n",
            "Data columns (total 6 columns):\n",
            " #   Column                                            Non-Null Count  Dtype  \n",
            "---  ------                                            --------------  -----  \n",
            " 0   Country Name                                      90 non-null     object \n",
            " 1   Total Area(sq.km)                                 90 non-null     int64  \n",
            " 2   1 meter-Impacted Agriculture Extent (in sq.km.)   90 non-null     int64  \n",
            " 3   5 meter- Impacted Agriculture Extent (in sq.km.)  90 non-null     int64  \n",
            " 4   1 meter-% impacted                                90 non-null     float64\n",
            " 5   5 meter-% impacted                                90 non-null     float64\n",
            "dtypes: float64(2), int64(3), object(1)\n",
            "memory usage: 4.3+ KB\n"
          ],
          "name": "stdout"
        }
      ]
    },
    {
      "cell_type": "code",
      "metadata": {
        "colab": {
          "base_uri": "https://localhost:8080/",
          "height": 314
        },
        "id": "ZhSeIsYQ2M5u",
        "outputId": "04fe11e9-bdb9-4f36-94f1-46e165ec0a1e"
      },
      "source": [
        "#to find out mean,median , max values of each column\n",
        "data.describe() "
      ],
      "execution_count": null,
      "outputs": [
        {
          "output_type": "execute_result",
          "data": {
            "text/html": [
              "<div>\n",
              "<style scoped>\n",
              "    .dataframe tbody tr th:only-of-type {\n",
              "        vertical-align: middle;\n",
              "    }\n",
              "\n",
              "    .dataframe tbody tr th {\n",
              "        vertical-align: top;\n",
              "    }\n",
              "\n",
              "    .dataframe thead th {\n",
              "        text-align: right;\n",
              "    }\n",
              "</style>\n",
              "<table border=\"1\" class=\"dataframe\">\n",
              "  <thead>\n",
              "    <tr style=\"text-align: right;\">\n",
              "      <th></th>\n",
              "      <th>Total Area(sq.km)</th>\n",
              "      <th>1 meter-Impacted Agriculture Extent (in sq.km.)</th>\n",
              "      <th>5 meter- Impacted Agriculture Extent (in sq.km.)</th>\n",
              "      <th>1 meter-% impacted</th>\n",
              "      <th>5 meter-% impacted</th>\n",
              "    </tr>\n",
              "  </thead>\n",
              "  <tbody>\n",
              "    <tr>\n",
              "      <th>count</th>\n",
              "      <td>9.000000e+01</td>\n",
              "      <td>90.000000</td>\n",
              "      <td>90.000000</td>\n",
              "      <td>90.000000</td>\n",
              "      <td>90.000000</td>\n",
              "    </tr>\n",
              "    <tr>\n",
              "      <th>mean</th>\n",
              "      <td>6.067624e+05</td>\n",
              "      <td>2387.366667</td>\n",
              "      <td>12698.833333</td>\n",
              "      <td>0.660328</td>\n",
              "      <td>3.583503</td>\n",
              "    </tr>\n",
              "    <tr>\n",
              "      <th>std</th>\n",
              "      <td>2.151803e+06</td>\n",
              "      <td>9328.974851</td>\n",
              "      <td>48280.060511</td>\n",
              "      <td>1.751664</td>\n",
              "      <td>6.851672</td>\n",
              "    </tr>\n",
              "    <tr>\n",
              "      <th>min</th>\n",
              "      <td>1.000000e+00</td>\n",
              "      <td>0.000000</td>\n",
              "      <td>0.000000</td>\n",
              "      <td>0.000000</td>\n",
              "      <td>0.000000</td>\n",
              "    </tr>\n",
              "    <tr>\n",
              "      <th>25%</th>\n",
              "      <td>1.327225e+04</td>\n",
              "      <td>11.500000</td>\n",
              "      <td>95.250000</td>\n",
              "      <td>0.034830</td>\n",
              "      <td>0.288118</td>\n",
              "    </tr>\n",
              "    <tr>\n",
              "      <th>50%</th>\n",
              "      <td>5.969850e+04</td>\n",
              "      <td>68.000000</td>\n",
              "      <td>555.500000</td>\n",
              "      <td>0.160376</td>\n",
              "      <td>1.337097</td>\n",
              "    </tr>\n",
              "    <tr>\n",
              "      <th>75%</th>\n",
              "      <td>2.315495e+05</td>\n",
              "      <td>366.500000</td>\n",
              "      <td>3543.000000</td>\n",
              "      <td>0.399900</td>\n",
              "      <td>2.698374</td>\n",
              "    </tr>\n",
              "    <tr>\n",
              "      <th>max</th>\n",
              "      <td>1.820287e+07</td>\n",
              "      <td>71621.000000</td>\n",
              "      <td>380965.000000</td>\n",
              "      <td>13.088638</td>\n",
              "      <td>39.617246</td>\n",
              "    </tr>\n",
              "  </tbody>\n",
              "</table>\n",
              "</div>"
            ],
            "text/plain": [
              "       Total Area(sq.km)  ...  5 meter-% impacted\n",
              "count       9.000000e+01  ...           90.000000\n",
              "mean        6.067624e+05  ...            3.583503\n",
              "std         2.151803e+06  ...            6.851672\n",
              "min         1.000000e+00  ...            0.000000\n",
              "25%         1.327225e+04  ...            0.288118\n",
              "50%         5.969850e+04  ...            1.337097\n",
              "75%         2.315495e+05  ...            2.698374\n",
              "max         1.820287e+07  ...           39.617246\n",
              "\n",
              "[8 rows x 5 columns]"
            ]
          },
          "metadata": {
            "tags": []
          },
          "execution_count": 5
        }
      ]
    },
    {
      "cell_type": "code",
      "metadata": {
        "id": "B9YPxZX52nBq"
      },
      "source": [
        "#How to Normalize a Dataset Without Converting Columns to Array\n",
        "#total area sq km data\n",
        "from sklearn import preprocessing\n",
        "total_area_data = {'values': [18202873,4889156,119236,4546,6306,3182399,112139,223156,13629,48812,9771,63264,13351,3160,36561,31703,11681,40130,1241,\n",
        "                              342810,5553,44603,104352,24793,2736,168630,274594,354294,29044,28498,195233,1,13246,56133,1521,3,4275,19,23179,210,2932,\n",
        "                              4463225,310134,66578,44615,351833,126619,6135,233870,5034,29470,116122,85939,175060,158176,42027,144759,2145,435629,371079,\n",
        "                              5714,647446,55792,33402,23270,230690,37754,172,491794,231836,131,5472581,186131,1842,99766,3386559,680712,68523,67946,126607,\n",
        "                              32353,257651,347615,24060,192816,3023617,104389,55582,2551292,312354]}\n",
        "df = pd.DataFrame(total_area_data)"
      ],
      "execution_count": null,
      "outputs": []
    },
    {
      "cell_type": "code",
      "metadata": {
        "id": "OGUDpSnp22Jz"
      },
      "source": [
        "min_max_scaler = preprocessing.MinMaxScaler()\n",
        "x_scaled = min_max_scaler.fit_transform(df)\n",
        "df_normalized = pd.DataFrame(x_scaled)"
      ],
      "execution_count": null,
      "outputs": []
    },
    {
      "cell_type": "code",
      "metadata": {
        "colab": {
          "base_uri": "https://localhost:8080/"
        },
        "id": "qm1W2AIs23g0",
        "outputId": "a390109d-bc82-420a-f058-8cde2608b63e"
      },
      "source": [
        "import sys\n",
        "np.set_printoptions(threshold=100)\n",
        "pd.set_option(\"display.max_rows\",None, \"display.max_columns\",None) \n",
        "print(df_normalized)"
      ],
      "execution_count": null,
      "outputs": [
        {
          "output_type": "stream",
          "text": [
            "               0\n",
            "0   1.000000e+00\n",
            "1   2.685925e-01\n",
            "2   6.550340e-03\n",
            "3   2.496859e-04\n",
            "4   3.463739e-04\n",
            "5   1.748294e-01\n",
            "6   6.160456e-03\n",
            "7   1.225933e-02\n",
            "8   7.486731e-04\n",
            "9   2.681500e-03\n",
            "10  5.367285e-04\n",
            "11  3.475441e-03\n",
            "12  7.334008e-04\n",
            "13  1.735440e-04\n",
            "14  2.008474e-03\n",
            "15  1.741593e-03\n",
            "16  6.416570e-04\n",
            "17  2.204542e-03\n",
            "18  6.812112e-05\n",
            "19  1.883269e-02\n",
            "20  3.050068e-04\n",
            "21  2.450273e-03\n",
            "22  5.732667e-03\n",
            "23  1.361983e-03\n",
            "24  1.502510e-04\n",
            "25  9.263868e-03\n",
            "26  1.508515e-02\n",
            "27  1.946358e-02\n",
            "28  1.595517e-03\n",
            "29  1.565522e-03\n",
            "30  1.072534e-02\n",
            "31  0.000000e+00\n",
            "32  7.276324e-04\n",
            "33  3.083689e-03\n",
            "34  8.350331e-05\n",
            "35  1.098728e-07\n",
            "36  2.347981e-04\n",
            "37  9.888549e-07\n",
            "38  1.273316e-03\n",
            "39  1.148170e-05\n",
            "40  1.610185e-04\n",
            "41  2.451934e-01\n",
            "42  1.703759e-02\n",
            "43  3.657500e-03\n",
            "44  2.450932e-03\n",
            "45  1.932838e-02\n",
            "46  6.955935e-03\n",
            "47  3.369798e-04\n",
            "48  1.284792e-02\n",
            "49  2.764948e-04\n",
            "50  1.618920e-03\n",
            "51  6.379268e-03\n",
            "52  4.721123e-03\n",
            "53  9.617109e-03\n",
            "54  8.689563e-03\n",
            "55  2.308757e-03\n",
            "56  7.952481e-03\n",
            "57  1.177836e-04\n",
            "58  2.393183e-02\n",
            "59  2.038568e-02\n",
            "60  3.138516e-04\n",
            "61  3.556829e-02\n",
            "62  3.064956e-03\n",
            "63  1.834930e-03\n",
            "64  1.278315e-03\n",
            "65  1.267322e-02\n",
            "66  2.074013e-03\n",
            "67  9.394122e-06\n",
            "68  2.701733e-02\n",
            "69  1.273618e-02\n",
            "70  7.141730e-06\n",
            "71  3.006438e-01\n",
            "72  1.022531e-02\n",
            "73  1.011379e-04\n",
            "74  5.480729e-03\n",
            "75  1.860453e-01\n",
            "76  3.739580e-02\n",
            "77  3.764351e-03\n",
            "78  3.732653e-03\n",
            "79  6.955276e-03\n",
            "80  1.777302e-03\n",
            "81  1.415436e-02\n",
            "82  1.909666e-02\n",
            "83  1.321715e-03\n",
            "84  1.059256e-02\n",
            "85  1.661065e-01\n",
            "86  5.734699e-03\n",
            "87  3.053419e-03\n",
            "88  1.401587e-01\n",
            "89  1.715954e-02\n"
          ],
          "name": "stdout"
        }
      ]
    },
    {
      "cell_type": "code",
      "metadata": {
        "id": "oaLS7Z9q2-0C"
      },
      "source": [
        "#1 meter agri impacted area\n",
        "\n",
        "from sklearn import preprocessing\n",
        "one_meter_agri_data = {'values': [71621,16821,4518,204,60,2934,83,544,25,288,13,242,36,14,15,369,9,60,35,5491,312,203,11,39,11,474,831,\n",
        "                                  4193,88,3730,76,0,19,97,1,0,0,0,180,0,2,1647,17,230,22,1,1,1,34,3,145,91,16,54,2,254,6,379,54,32,45,\n",
        "                                  148,24,36,1,44,0,25,0,0,45413,2753,7,359,21118,4917,112,174,210,15,950,772,253,13773,3547,776,93,2417,261]}\n",
        "df1 = pd.DataFrame(one_meter_agri_data )"
      ],
      "execution_count": null,
      "outputs": []
    },
    {
      "cell_type": "code",
      "metadata": {
        "colab": {
          "base_uri": "https://localhost:8080/"
        },
        "id": "1lnBQ8T03BF4",
        "outputId": "7ee10e1c-c52c-4c43-9d06-9c6ea3fee24b"
      },
      "source": [
        "min_max_scaler = preprocessing.MinMaxScaler()\n",
        "one_meter_scaled = min_max_scaler.fit_transform(df1)\n",
        "df1_normalized = pd.DataFrame(one_meter_scaled)\n",
        "import sys\n",
        "np.set_printoptions(threshold=100)\n",
        "pd.set_option(\"display.max_rows\",None, \"display.max_columns\",None) \n",
        "print(df1_normalized)"
      ],
      "execution_count": null,
      "outputs": [
        {
          "output_type": "stream",
          "text": [
            "           0\n",
            "0   1.000000\n",
            "1   0.234861\n",
            "2   0.063082\n",
            "3   0.002848\n",
            "4   0.000838\n",
            "5   0.040966\n",
            "6   0.001159\n",
            "7   0.007596\n",
            "8   0.000349\n",
            "9   0.004021\n",
            "10  0.000182\n",
            "11  0.003379\n",
            "12  0.000503\n",
            "13  0.000195\n",
            "14  0.000209\n",
            "15  0.005152\n",
            "16  0.000126\n",
            "17  0.000838\n",
            "18  0.000489\n",
            "19  0.076667\n",
            "20  0.004356\n",
            "21  0.002834\n",
            "22  0.000154\n",
            "23  0.000545\n",
            "24  0.000154\n",
            "25  0.006618\n",
            "26  0.011603\n",
            "27  0.058544\n",
            "28  0.001229\n",
            "29  0.052080\n",
            "30  0.001061\n",
            "31  0.000000\n",
            "32  0.000265\n",
            "33  0.001354\n",
            "34  0.000014\n",
            "35  0.000000\n",
            "36  0.000000\n",
            "37  0.000000\n",
            "38  0.002513\n",
            "39  0.000000\n",
            "40  0.000028\n",
            "41  0.022996\n",
            "42  0.000237\n",
            "43  0.003211\n",
            "44  0.000307\n",
            "45  0.000014\n",
            "46  0.000014\n",
            "47  0.000014\n",
            "48  0.000475\n",
            "49  0.000042\n",
            "50  0.002025\n",
            "51  0.001271\n",
            "52  0.000223\n",
            "53  0.000754\n",
            "54  0.000028\n",
            "55  0.003546\n",
            "56  0.000084\n",
            "57  0.005292\n",
            "58  0.000754\n",
            "59  0.000447\n",
            "60  0.000628\n",
            "61  0.002066\n",
            "62  0.000335\n",
            "63  0.000503\n",
            "64  0.000014\n",
            "65  0.000614\n",
            "66  0.000000\n",
            "67  0.000349\n",
            "68  0.000000\n",
            "69  0.000000\n",
            "70  0.634074\n",
            "71  0.038438\n",
            "72  0.000098\n",
            "73  0.005012\n",
            "74  0.294858\n",
            "75  0.068653\n",
            "76  0.001564\n",
            "77  0.002429\n",
            "78  0.002932\n",
            "79  0.000209\n",
            "80  0.013264\n",
            "81  0.010779\n",
            "82  0.003532\n",
            "83  0.192304\n",
            "84  0.049525\n",
            "85  0.010835\n",
            "86  0.001299\n",
            "87  0.033747\n",
            "88  0.003644\n"
          ],
          "name": "stdout"
        }
      ]
    },
    {
      "cell_type": "code",
      "metadata": {
        "id": "TfupGp5I3BwN"
      },
      "source": [
        "#5 meter agri impacted area\n",
        "five_meter_agri_data = {'values': [380965,87126,22184,1801,534,20589,305,3699,213,2838,89,1556,201,42,297,1908,93,818,122,18670,\n",
        "                                   1361,1145,68,397,66,2288,5842,11629,242,9831,657,0,85,332,9,0,1,0,467,0,5,16159,276,752,23,57,\n",
        "                                   102,22,1,590,155,534,713,147,368,37,1393,166,6390,578,614,288,1645,577,313,2,190,0,225,1,0,\n",
        "                                   229409,20721,44,5202,92864,38114,1478,1318,3075,176,5191,14864,1181,45181,36642,11824,1130,19973,\n",
        "                                   3715]}\n",
        "df2 = pd.DataFrame(five_meter_agri_data)"
      ],
      "execution_count": null,
      "outputs": []
    },
    {
      "cell_type": "code",
      "metadata": {
        "id": "KpZmO61b3FOn"
      },
      "source": [
        "min_max_scaler = preprocessing.MinMaxScaler()\n",
        "five_meter_scaled = min_max_scaler.fit_transform(df2)\n",
        "df2_normalized = pd.DataFrame(five_meter_scaled)\n",
        "\n",
        "np.set_printoptions(threshold=100)\n",
        "pd.set_option(\"display.max_rows\",None, \"display.max_columns\",None) \n",
        "print(df2_normalized)"
      ],
      "execution_count": null,
      "outputs": []
    },
    {
      "cell_type": "code",
      "metadata": {
        "id": "qHk5crf-A5td"
      },
      "source": [
        "# percent data -1 meter\n",
        "\n",
        "one_meter_percent = {'values': [0.393459868,0.344047112,3.78912409,4.487461505,0.951474786,0.092194599,0.074015285,0.243775655,0.183432387,0.590018848,\n",
        "                                0.133046771,0.382524026,0.269642723,0.443037975,0.041027324,1.163927704,0.077048198,0.149514079,2.820306205,1.601761909,\n",
        "                                5.618584549,0.455126337,0.010541245,0.157302464,0.402046784,0.281088774,0.302628608,1.183480386,0.302988569,13.0886378,\n",
        "                                0.038927845,0,0.143439529,0.172803877,0.06574622,0,0,0,0.776564994,0,0.068212824,0.036901568,0.005481502,0.345459461,\n",
        "                                0.004482797,0.000568452,0.000789771,0.016299919,0.000427588,0.675407231,0.010179844,0.124868673,0.105889061,0.009139724,\n",
        "                                0.034139187,0.004758846,0.175464047,0.27972028,0.087000636,0.014552157,0.560028001,0.006950387,0.265271007,0.071851985,\n",
        "                                0.15470563,0.000433482,0.116543942,0,0.005083429,0,0,0.829827827,1.479065819,0.380021716,0.35984203,0.623582817,0.722331911,\n",
        "                                0.163448769,0.256085715,0.165867606,0.046363552,0.368715821,0.222084778,1.051537822,7.143079412,0.117309831,0.743373344,\n",
        "                                0.167320356,0.094736314,0.083559039]}\n",
        "df3 = pd.DataFrame(one_meter_percent )"
      ],
      "execution_count": null,
      "outputs": []
    },
    {
      "cell_type": "code",
      "metadata": {
        "colab": {
          "base_uri": "https://localhost:8080/"
        },
        "id": "Qw7A-b_2BBQC",
        "outputId": "40ba48a8-6549-4da3-d9df-e38f28cf9bc8"
      },
      "source": [
        "min_max_scaler = preprocessing.MinMaxScaler()\n",
        "one_meter_percent_scaled = min_max_scaler.fit_transform(df3)\n",
        "df3_normalized = pd.DataFrame(one_meter_percent_scaled)\n",
        "\n",
        "np.set_printoptions(threshold=100)\n",
        "pd.set_option(\"display.max_rows\",None, \"display.max_columns\",None) \n",
        "print(df3_normalized)"
      ],
      "execution_count": null,
      "outputs": [
        {
          "output_type": "stream",
          "text": [
            "           0\n",
            "0   0.030061\n",
            "1   0.026286\n",
            "2   0.289497\n",
            "3   0.342852\n",
            "4   0.072695\n",
            "5   0.007044\n",
            "6   0.005655\n",
            "7   0.018625\n",
            "8   0.014015\n",
            "9   0.045079\n",
            "10  0.010165\n",
            "11  0.029226\n",
            "12  0.020601\n",
            "13  0.033849\n",
            "14  0.003135\n",
            "15  0.088927\n",
            "16  0.005887\n",
            "17  0.011423\n",
            "18  0.215477\n",
            "19  0.122378\n",
            "20  0.429272\n",
            "21  0.034773\n",
            "22  0.000805\n",
            "23  0.012018\n",
            "24  0.030717\n",
            "25  0.021476\n",
            "26  0.023121\n",
            "27  0.090420\n",
            "28  0.023149\n",
            "29  1.000000\n",
            "30  0.002974\n",
            "31  0.000000\n",
            "32  0.010959\n",
            "33  0.013203\n",
            "34  0.005023\n",
            "35  0.000000\n",
            "36  0.000000\n",
            "37  0.000000\n",
            "38  0.059331\n",
            "39  0.000000\n",
            "40  0.005212\n",
            "41  0.002819\n",
            "42  0.000419\n",
            "43  0.026394\n",
            "44  0.000342\n",
            "45  0.000043\n",
            "46  0.000060\n",
            "47  0.001245\n",
            "48  0.000033\n",
            "49  0.051603\n",
            "50  0.000778\n",
            "51  0.009540\n",
            "52  0.008090\n",
            "53  0.000698\n",
            "54  0.002608\n",
            "55  0.000364\n",
            "56  0.013406\n",
            "57  0.021371\n",
            "58  0.006647\n",
            "59  0.001112\n",
            "60  0.042787\n",
            "61  0.000531\n",
            "62  0.020267\n",
            "63  0.005490\n",
            "64  0.011820\n",
            "65  0.000033\n",
            "66  0.008904\n",
            "67  0.000000\n",
            "68  0.000388\n",
            "69  0.000000\n",
            "70  0.000000\n",
            "71  0.063401\n",
            "72  0.113004\n",
            "73  0.029034\n",
            "74  0.027493\n",
            "75  0.047643\n",
            "76  0.055188\n",
            "77  0.012488\n",
            "78  0.019565\n",
            "79  0.012673\n",
            "80  0.003542\n",
            "81  0.028171\n",
            "82  0.016968\n",
            "83  0.080340\n",
            "84  0.545747\n",
            "85  0.008963\n",
            "86  0.056795\n",
            "87  0.012784\n",
            "88  0.007238\n",
            "89  0.006384\n"
          ],
          "name": "stdout"
        }
      ]
    },
    {
      "cell_type": "code",
      "metadata": {
        "id": "kI52ZbrHBaAD"
      },
      "source": [
        "# percent data -1 meter\n",
        "\n",
        "five_meter_percent = {'values': [2.092883909,1.782025364,18.60511926,39.61724593,8.468125595,0.646964758,0.271983877,1.657584829,1.562843936,5.814144063,\n",
        "                                 0.910858663,2.459534648,1.505505206,1.329113924,0.812341019,6.018357884,0.796164712,2.03837528,9.830781628,\n",
        "                                 5.446165514,24.50927427,2.5670919,0.06516406,1.60125842,2.412280702,1.356816699,2.127504607,3.282302269,0.833218565,\n",
        "                                 34.4971577,0.336520977,0,0.641703156,0.591452443,0.591715976,0,0.023391813,0,2.014754735,0,0.17053206,0.362047623,\n",
        "                                 0.08899379,1.129502238,0.051552169,0.016200868,0.080556631,0.358598207,0.000427588,11.72030195,0.525958602,0.45986118,\n",
        "                                 0.829658246,0.08397121,0.232652235,0.088038642,0.962289046,7.738927739,1.466844494,0.155761981,10.74553728,0.044482474,2.948451391,\n",
        "                                 1.727441471,1.345079502,0.000866964,0.503257933,0,0.045750863,0.000431339,0,4.191970845,11.13248196,2.388707926,5.214201231,\n",
        "                                 2.74213442,5.599137374,2.156940006,1.939775704,2.42877566,0.543999011,2.01474087,4.275994994,4.908561929,23.43218405,\n",
        "                                 1.211859835,11.32686394,2.033032277,0.782858254,1.189355667]}\n",
        "df4 = pd.DataFrame(five_meter_percent )"
      ],
      "execution_count": null,
      "outputs": []
    },
    {
      "cell_type": "code",
      "metadata": {
        "id": "SYGf-6KbBaDv"
      },
      "source": [
        "min_max_scaler = preprocessing.MinMaxScaler()\n",
        "five_meter_percent_scaled = min_max_scaler.fit_transform(df4)\n",
        "df4_normalized = pd.DataFrame(five_meter_percent_scaled)\n",
        "\n",
        "np.set_printoptions(threshold=100)\n",
        "pd.set_option(\"display.max_rows\",None, \"display.max_columns\",None) \n",
        "print(df4_normalized)"
      ],
      "execution_count": null,
      "outputs": []
    },
    {
      "cell_type": "markdown",
      "metadata": {
        "id": "X1RFzgl1QRnA"
      },
      "source": [
        "Population data"
      ]
    },
    {
      "cell_type": "code",
      "metadata": {
        "colab": {
          "base_uri": "https://localhost:8080/",
          "height": 238
        },
        "id": "acqLHcIddlM4",
        "outputId": "82888ac5-2d93-4024-c5d0-5911bd42eb66"
      },
      "source": [
        "#POPULATION DATA \n",
        "#Loading the Dataset\n",
        "dataset = pd.read_csv('Population-slr-data.csv', sep=',')\n",
        "dataset.head() "
      ],
      "execution_count": null,
      "outputs": [
        {
          "output_type": "execute_result",
          "data": {
            "text/html": [
              "<div>\n",
              "<style scoped>\n",
              "    .dataframe tbody tr th:only-of-type {\n",
              "        vertical-align: middle;\n",
              "    }\n",
              "\n",
              "    .dataframe tbody tr th {\n",
              "        vertical-align: top;\n",
              "    }\n",
              "\n",
              "    .dataframe thead th {\n",
              "        text-align: right;\n",
              "    }\n",
              "</style>\n",
              "<table border=\"1\" class=\"dataframe\">\n",
              "  <thead>\n",
              "    <tr style=\"text-align: right;\">\n",
              "      <th></th>\n",
              "      <th>Country Name</th>\n",
              "      <th>Countrty Population</th>\n",
              "      <th>1 meter-Impacted Population</th>\n",
              "      <th>5 meter-Impacted Population</th>\n",
              "      <th>1 meter-% of Country Population Impacted</th>\n",
              "      <th>5 meter-% of Country Population Impacted</th>\n",
              "    </tr>\n",
              "  </thead>\n",
              "  <tbody>\n",
              "    <tr>\n",
              "      <th>0</th>\n",
              "      <td>Global</td>\n",
              "      <td>4473279000</td>\n",
              "      <td>57222477</td>\n",
              "      <td>250595419</td>\n",
              "      <td>1.279207</td>\n",
              "      <td>5.602052</td>\n",
              "    </tr>\n",
              "    <tr>\n",
              "      <th>1</th>\n",
              "      <td>Latin American/Carribean</td>\n",
              "      <td>501550000</td>\n",
              "      <td>2885928</td>\n",
              "      <td>13503335</td>\n",
              "      <td>0.575402</td>\n",
              "      <td>2.692321</td>\n",
              "    </tr>\n",
              "    <tr>\n",
              "      <th>2</th>\n",
              "      <td>Argentina</td>\n",
              "      <td>37032000</td>\n",
              "      <td>199601</td>\n",
              "      <td>1271972</td>\n",
              "      <td>0.538996</td>\n",
              "      <td>3.434792</td>\n",
              "    </tr>\n",
              "    <tr>\n",
              "      <th>3</th>\n",
              "      <td>Bahamas</td>\n",
              "      <td>304000</td>\n",
              "      <td>13869</td>\n",
              "      <td>89742</td>\n",
              "      <td>4.562171</td>\n",
              "      <td>29.520395</td>\n",
              "    </tr>\n",
              "    <tr>\n",
              "      <th>4</th>\n",
              "      <td>Belize</td>\n",
              "      <td>226000</td>\n",
              "      <td>5532</td>\n",
              "      <td>42693</td>\n",
              "      <td>2.447788</td>\n",
              "      <td>18.890708</td>\n",
              "    </tr>\n",
              "  </tbody>\n",
              "</table>\n",
              "</div>"
            ],
            "text/plain": [
              "               Country Name  Countrty Population  1 meter-Impacted Population  \\\n",
              "0                    Global           4473279000                     57222477   \n",
              "1  Latin American/Carribean            501550000                      2885928   \n",
              "2                 Argentina             37032000                       199601   \n",
              "3                   Bahamas               304000                        13869   \n",
              "4                    Belize               226000                         5532   \n",
              "\n",
              "   5 meter-Impacted Population  1 meter-% of Country Population Impacted  \\\n",
              "0                    250595419                                  1.279207   \n",
              "1                     13503335                                  0.575402   \n",
              "2                      1271972                                  0.538996   \n",
              "3                        89742                                  4.562171   \n",
              "4                        42693                                  2.447788   \n",
              "\n",
              "   5 meter-% of Country Population Impacted  \n",
              "0                                  5.602052  \n",
              "1                                  2.692321  \n",
              "2                                  3.434792  \n",
              "3                                 29.520395  \n",
              "4                                 18.890708  "
            ]
          },
          "metadata": {
            "tags": []
          },
          "execution_count": 20
        }
      ]
    },
    {
      "cell_type": "code",
      "metadata": {
        "id": "VoLak5U4dlS_"
      },
      "source": [
        "# percent data -1 meter\n",
        "\n",
        "country_popln = {'values': [4473279000,501550000,37032000,304000,226000,170406000,15211000,42105000,4024000,11199000,8373000,\n",
        "                            12646000,6278000,165000,11385000,761000,8142000,6417000,2576000,98872000,417000,5071000,25662000,2856000,\n",
        "                            3915000,3337000,24170000,259396000,30291000,67884000,70330000,1914000,5290000,29634000,2538000,565000,\n",
        "                            20346000,2606000,9459000,190000,18349000,522370000,13134000,6272000,3018000,50948000,14876000,457000,\n",
        "                            62908000,1303000,1230000,19306000,8154000,16013000,30669000,2913000,15970000,2665000,18292000,113862000,\n",
        "                            1199000,43309000,9421000,4405000,8778000,31095000,4527000,138000,35119000,1757000,632000,1883407000,47749000,\n",
        "                            328000,13104000,1275133000,212092000,22268000,46740000,22218000,4809000,75653000,62806000,22370000,78137000,\n",
        "                            1306556000,137439000,18924000,1008937000,141256000]}\n",
        "df5 = pd.DataFrame(country_popln)"
      ],
      "execution_count": null,
      "outputs": []
    },
    {
      "cell_type": "code",
      "metadata": {
        "id": "wg1eFoqzfN4Z"
      },
      "source": [
        "min_max_scaler = preprocessing.MinMaxScaler()\n",
        "country_popln_scaled = min_max_scaler.fit_transform(df5)\n",
        "df5_normalized = pd.DataFrame(country_popln_scaled)\n",
        "\n",
        "np.set_printoptions(threshold=100)\n",
        "pd.set_option(\"display.max_rows\",None, \"display.max_columns\",None) \n",
        "print(df5_normalized)"
      ],
      "execution_count": null,
      "outputs": []
    },
    {
      "cell_type": "code",
      "metadata": {
        "id": "1vicamm7hYxS"
      },
      "source": [
        "# 1 meter popln data\n",
        "# percent data -1 meter\n",
        "\n",
        "one_meter__popln = {'values': [57222477,2885928,199601,13869,5532,1026618,39615,142888,5152,77460,27631,137539,9920,\n",
        "                               8940,3133,47924,11830,7198,24106,590895,29203,6276,38455,9924,103834,82885,235500,8390798,\n",
        "                               171380,6296292,240354,11429,156820,380844,27252,9051,403036,119581,462490,286,111983,2330548,\n",
        "                               24360,246162,2841,14205,2761,466,233919,45794,6119,150143,52659,217073,15627,46660,85089,211834,\n",
        "                               71478,455209,10215,37071,206078,25370,39302,26805,40904,174,41313,3616,17301,37213479,591118,1584,\n",
        "                               130478,22699295,2774692,86211,228762,97384,4963,805406,686175,670339,8437072,6401724,1526826,126368,\n",
        "                               4446570,301960]}\n",
        "df6 = pd.DataFrame(one_meter__popln)"
      ],
      "execution_count": null,
      "outputs": []
    },
    {
      "cell_type": "code",
      "metadata": {
        "id": "XYuSzcG9hZF0"
      },
      "source": [
        "min_max_scaler = preprocessing.MinMaxScaler()\n",
        "one_meter_popln_scaled = min_max_scaler.fit_transform(df6)\n",
        "df6_normalized = pd.DataFrame(one_meter_popln_scaled)\n",
        "\n",
        "print(df6_normalized)"
      ],
      "execution_count": null,
      "outputs": []
    },
    {
      "cell_type": "code",
      "metadata": {
        "id": "Bv4Zh0rljsVL"
      },
      "source": [
        "# 5 meter popln data \n",
        "\n",
        "five_meter__popln = {'values': [250595419,13503335,1271972,89742,42693,5296660,71714,650853,43917,427107,189017,660611,56534,24304,35277,319582,\n",
        "                                115836,62839,105399,2221226,232546,48615,164391,92329,333421,201020,745730,19557716,446864,14147454,866473,39722,\n",
        "                                334717,771015,111377,55379,1349536,306088,899951,1212,227928,11319717,131359,766704,21608,35239,96768,4217,252826,\n",
        "                                291532,57222,503424,427999,518012,64592,360564,330336,549780,979918,3505455,161336,99670,1120602,169335,177212,187512,\n",
        "                                186124,1452,187985,39966,90968,162523951,5859748,10953,1249821,88275595,17327380,951319,1276765,1458363,24860,6243089,\n",
        "                                7810588,2199026,29836444,43690700,16720860,949770,24626888,1393182]}\n",
        "df7 = pd.DataFrame(five_meter__popln)"
      ],
      "execution_count": null,
      "outputs": []
    },
    {
      "cell_type": "code",
      "metadata": {
        "id": "nOR4UGF6jsnC"
      },
      "source": [
        "min_max_scaler = preprocessing.MinMaxScaler()\n",
        "five_meter_popln_scaled = min_max_scaler.fit_transform(df7)\n",
        "df7_normalized = pd.DataFrame(five_meter_popln_scaled)\n",
        "\n",
        "print(df7_normalized)"
      ],
      "execution_count": null,
      "outputs": []
    },
    {
      "cell_type": "code",
      "metadata": {
        "id": "D2wZV3HtlwOA"
      },
      "source": [
        "# percennt population data \n",
        "#1 meter popln \n",
        "\n",
        "one_meter_popln_percent = {'values': [1.279206528,0.575401854,0.538996003,4.562171053,2.447787611,0.602454139,0.260436526,0.339361121,0.128031809,\n",
        "                                      0.691668899,0.330001194,1.08760873,0.158012106,5.418181818,0.027518665,6.297503285,0.145295996,0.112170796,\n",
        "                                      0.935791925,0.597636338,7.003117506,0.123762571,0.149851921,0.347478992,2.652209451,2.4838178,0.974348366,\n",
        "                                      3.23474456,0.565778614,9.275075128,0.341751742,0.597126437,2.964461248,1.285158939,1.073758865,1.601946903,\n",
        "                                      1.980910253,4.588679969,4.889417486,0.150526316,0.610294839,0.446148898,0.185472819,3.924776786,0.094135189,\n",
        "                                      0.027881369,0.018560097,0.101969365,0.371843009,3.514504988,0.497479675,0.777701233,0.64580574,1.355604821,\n",
        "                                      0.050953732,1.601785101,0.53280526,7.948742964,0.390760988,0.399790097,0.851959967,0.085596527,2.187432332,\n",
        "                                      0.575936436,0.447732969,0.08620357,0.903556439,0.126086957,0.117637176,0.20580535,2.7375,1.975859652,1.237969382,\n",
        "                                      0.482926829,0.995711233,1.780151169,1.30824925,0.387151967,0.489435173,0.438311279,0.103202329,1.064605501,1.092530968,\n",
        "                                      2.996598122,10.79779362,0.489969355,1.11091175,0.6677658,0.440718301,0.213767911]}\n",
        "df8 = pd.DataFrame(one_meter_popln_percent)"
      ],
      "execution_count": null,
      "outputs": []
    },
    {
      "cell_type": "code",
      "metadata": {
        "id": "ZaVJh0ONlwfe"
      },
      "source": [
        "min_max_scaler = preprocessing.MinMaxScaler()\n",
        "one_meter_popln_percent_scaled = min_max_scaler.fit_transform(df8)\n",
        "df8_normalized = pd.DataFrame(one_meter_popln_percent_scaled)\n",
        "\n",
        "print(df8_normalized)"
      ],
      "execution_count": null,
      "outputs": []
    },
    {
      "cell_type": "code",
      "metadata": {
        "id": "wBtXOQUGolRs"
      },
      "source": [
        "# percent population data \n",
        "#5 meter popln \n",
        "\n",
        "five_meter_popln_percent = {'values': [5.602052074,2.692320806,3.434791532,29.52039474,18.89070796,3.108259099,0.471461442,1.545785536,1.09137674,\n",
        "                                       3.813795875,2.257458498,5.223873161,0.900509716,14.72969697,0.309855072,41.99500657,1.422697126,0.97925822,\n",
        "                                       4.091576087,2.246567279,55.76642686,0.95868665,0.640600888,3.232808123,8.516500639,6.023973629,3.085353744,\n",
        "                                       7.539713797,1.475236869,20.84063108,1.232010522,2.075339603,6.327353497,2.601791861,4.388376675,9.80159292,\n",
        "                                       6.632930306,11.74551036,9.514229834,0.637894737,1.242182135,2.16699217,1.000144663,12.22423469,0.715970842,\n",
        "                                       0.069166601,0.650497446,0.922757112,0.40189801,22.37390637,4.652195122,2.607603854,5.248945303,3.234946606,\n",
        "                                       0.210610062,12.37775489,2.068478397,20.62964353,5.357085065,3.078687358,13.4558799,0.230136923,11.89472455,\n",
        "                                       3.84415437,2.018819777,0.603029426,4.111420367,1.052173913,0.535280048,2.274672738,14.39367089,8.629252785,\n",
        "                                       12.27198057,3.339329268,9.537706044,6.92285393,8.169747091,4.272134902,2.731632435,6.563880637,0.51694739,\n",
        "                                       8.252268912,12.43605388,9.830245865,38.18478314,3.343959233,12.16602274,5.018864933,2.440874703,0.986281645]}\n",
        "df9 = pd.DataFrame(five_meter_popln_percent)"
      ],
      "execution_count": null,
      "outputs": []
    },
    {
      "cell_type": "code",
      "metadata": {
        "id": "af4vDlixog5T"
      },
      "source": [
        "min_max_scaler = preprocessing.MinMaxScaler()\n",
        "five_meter_popln_percent_scaled = min_max_scaler.fit_transform(df9)\n",
        "df9_normalized = pd.DataFrame(five_meter_popln_percent_scaled)\n",
        "\n",
        "print(df9_normalized)"
      ],
      "execution_count": null,
      "outputs": []
    },
    {
      "cell_type": "markdown",
      "metadata": {
        "id": "IPTCyddHYDS7"
      },
      "source": [
        "GDP Data\n"
      ]
    },
    {
      "cell_type": "code",
      "metadata": {
        "id": "x4tqE4vUYGgL"
      },
      "source": [
        "# GDP data \n",
        "#Total GDP(million USD) \n",
        "\n",
        "Total_gdp = {'values': [16936267,3649731,439897,4962,1312,1233633,135982,296427,38381,19200,57877,40046,32878,1951,50422,3469,15299,18159,9226,839150,\n",
        "                         1480,13100,120087,16653,96388,28887,134865,1404470,186902,222186,364399,37262,45400,97991,29018,15100,278922,54000,58574,762,\n",
        "                        13954,1009293,27653,5962,2881,37331,24386,1487,960,49241,2567,7385,42213,14174,24159,29623,3350,12577,4972,17660,109412,1150,\n",
        "                        470466,13848,2285,4300,62128,7493,178,17035,12417,7577206,63700,5900,21106,4724163,613299,22000,691772,211738,13927,290338,378476,\n",
        "                        386000,154787,3295567,202087,62726,2772730,258024]}\n",
        "df10 = pd.DataFrame(Total_gdp)"
      ],
      "execution_count": null,
      "outputs": []
    },
    {
      "cell_type": "code",
      "metadata": {
        "id": "RkJPOJXgYGm4"
      },
      "source": [
        "from sklearn import preprocessing\n",
        "min_max_scaler = preprocessing.MinMaxScaler()\n",
        "Total_gdp_scaled = min_max_scaler.fit_transform(df10)\n",
        "df10_normalized = pd.DataFrame(Total_gdp_scaled)\n",
        "\n",
        "np.set_printoptions(threshold=100)\n",
        "pd.set_option(\"display.max_rows\",None, \"display.max_columns\",None) \n",
        "print(df10_normalized)"
      ],
      "execution_count": null,
      "outputs": []
    },
    {
      "cell_type": "code",
      "metadata": {
        "id": "UjceDQxMbc6w"
      },
      "source": [
        "## GDP data \n",
        "# 1 meter GDP(million USD) \n",
        "\n",
        "one_meter_gdp = {'values': [220436,19743,1362,235,27,7134,113,594,43,86,88,1065,93,59,10,161,12,15,62,4565,95,13,774,142,1473,428,1094,21211,\n",
        "                            976,14301,859,428,696,141,244,274,417,1087,1718,1,69,2401,48,336,0,9,19,5,0,173,19,9,356,46,267,40,36,29,465,47,\n",
        "                            250,5,35,158,4,4,15,11,0,11,4,158428,613,0,223,113390,11558,22,1468,1165,8,1805,5372,6999,15805,18653,1896,284,\n",
        "                            16223,250]}\n",
        "df11 = pd.DataFrame(one_meter_gdp)"
      ],
      "execution_count": null,
      "outputs": []
    },
    {
      "cell_type": "code",
      "metadata": {
        "id": "bXoSEClSbdLg"
      },
      "source": [
        "from sklearn import preprocessing\n",
        "min_max_scaler = preprocessing.MinMaxScaler()\n",
        "one_meter_gdp_scaled = min_max_scaler.fit_transform(df11)\n",
        "df11_normalized = pd.DataFrame(one_meter_gdp_scaled)\n",
        "\n",
        "np.set_printoptions(threshold=100)\n",
        "pd.set_option(\"display.max_rows\",None, \"display.max_columns\",None) \n",
        "print(df11_normalized)"
      ],
      "execution_count": null,
      "outputs": []
    },
    {
      "cell_type": "code",
      "metadata": {
        "id": "aIPBThxvddzX"
      },
      "source": [
        "#5 meter gdp\n",
        "\n",
        "five_meter_gdp = {'values': [1028627,87061,10036,1406,131,30176,301,3602,217,1236,822,2798,323,298,94,789,178,228,220,18605,509,\n",
        "                             123,1631,436,8921,1017,2964,55561,2196,36214,3645,1374,1299,609,605,1476,1402,2364,4260,3,114,13909,\n",
        "                             476,976,17,17,288,19,2,189,448,81,950,911,772,135,60,162,1297,1257,3027,160,889,1503,50,17,97,51,0,\n",
        "                             51,7,773176,7542,179,2378,510437,49768,679,8803,11958,49,12155,85669,27524,56035,98920,22790,2343,72263,1524]}\n",
        "df12 = pd.DataFrame(five_meter_gdp)"
      ],
      "execution_count": null,
      "outputs": []
    },
    {
      "cell_type": "code",
      "metadata": {
        "id": "jsRdF_ICdeAd"
      },
      "source": [
        "from sklearn import preprocessing\n",
        "min_max_scaler = preprocessing.MinMaxScaler()\n",
        "five_meter_gdp_scaled = min_max_scaler.fit_transform(df12)\n",
        "df12_normalized = pd.DataFrame(five_meter_gdp_scaled)\n",
        "\n",
        "np.set_printoptions(threshold=100)\n",
        "pd.set_option(\"display.max_rows\",None, \"display.max_columns\",None) \n",
        "print(df12_normalized)"
      ],
      "execution_count": null,
      "outputs": []
    },
    {
      "cell_type": "code",
      "metadata": {
        "id": "qI7COCnKfNB2"
      },
      "source": [
        "# percent- 1 meter gdp\n",
        "\n",
        "percent_one_meter_gdp = {'values': [1.301561909,0.540943976,0.309617933,4.735993551,2.057926829,0.578291923,0.083099234,0.200386604,0.1120346,0.447916667,\n",
        "                                    0.152046582,2.659441642,0.282863921,3.02409021,0.019832613,4.641106947,0.078436499,0.082603668,0.672013874,0.54400286,\n",
        "                                    6.418918919,0.099236641,0.644532714,0.852699213,1.528198531,1.481635338,0.811181552,1.510249418,0.522198799,6.436499149,\n",
        "                                    0.235730614,1.148623262,1.533039648,0.143890765,0.840857399,1.814569536,0.149504162,2.012962963,2.933041964,0.131233596,\n",
        "                                    0.494481869,0.237889295,0.17357972,5.635692721,0,0.02410865,0.077913557,0.336247478,00.351333239,0.740163615,0.121868653,\n",
        "                                    0.843342098,0.324537886,1.105178194,0.135030213,1.074626866,0.230579629,9.35237329,0.266138165,0.228494132,0.434782609,\n",
        "                                    0.007439432,1.140958983,0.175054705,0.093023256,0.024143703,0.146803683,0,0.064572938,0.0322139,2.090849846,0.962323391,\n",
        "                                    0,1.056571591,2.40021354,1.884562016,0.1,0.212208647,0.550208276,0.057442378,0.621689204,1.419376658,1.813212435,10.21080582,\n",
        "                                    0.566002755,0.938209781,0.45276281,0.585091228,0.096890212]}\n",
        "df13 = pd.DataFrame(percent_one_meter_gdp)"
      ],
      "execution_count": null,
      "outputs": []
    },
    {
      "cell_type": "code",
      "metadata": {
        "id": "EshSO2zAfNTD"
      },
      "source": [
        "from sklearn import preprocessing\n",
        "min_max_scaler = preprocessing.MinMaxScaler()\n",
        "percent_one_meter_gdp_scaled = min_max_scaler.fit_transform(df13)\n",
        "df13_normalized = pd.DataFrame(percent_one_meter_gdp_scaled)\n",
        "\n",
        "np.set_printoptions(threshold=100)\n",
        "pd.set_option(\"display.max_rows\",None, \"display.max_columns\",None) \n",
        "print(df13_normalized)"
      ],
      "execution_count": null,
      "outputs": []
    },
    {
      "cell_type": "code",
      "metadata": {
        "id": "zyPnXqEejHzP"
      },
      "source": [
        "# percent- 5 meter gdp\n",
        "\n",
        "percent_five_meter_gdp = {'values': [6.073516673,2.385408678,2.281443156,28.33534865,9.984756098,2.446108364,0.221352826,1.215138972,0.565383914,6.4375,\n",
        "                                     1.420253296,6.98696499,0.982419855,15.27421835,0.18642656,22.74430672,1.163474737,1.255575748,2.384565359,2.217124471,\n",
        "                                     34.39189189,0.938931298,1.358181985,2.61814688,9.25530149,3.520614809,2.197753309,3.956011876,1.174947299,16.29895673,\n",
        "                                     1.000277169,3.687402716,2.86123348,0.621485647,2.084912813,9.774834437,0.502649486,4.377777778,7.272851436,0.393700787,\n",
        "                                     0.816970044,1.378093378,1.721332224,16.37034552,0.590072891,0.04553856,1.181005495,1.277740417,0.208333333,0.383826486,\n",
        "                                     17.45227892,1.096817874,2.250491555,6.427261182,3.195496502,0.455726969,1.791044776,1.288065516,26.08608206,7.117780294,\n",
        "                                     2.766606954,13.91304348,0.188961583,10.85355286,2.188183807,0.395348837,0.156129281,0.68063526,0,0.299383622,0.056374326,\n",
        "                                     10.20397228,11.83987441,3.033898305,11.26693831,10.80481347,8.114802079,3.086363636,1.272529099,5.647545552,0.351834566,\n",
        "                                     4.186499873,22.63525296,7.130569948,36.20136058,3.001607918,11.27732115,3.73529318,2.606203994,0.590642731]}\n",
        "df14 = pd.DataFrame(percent_five_meter_gdp)"
      ],
      "execution_count": null,
      "outputs": []
    },
    {
      "cell_type": "code",
      "metadata": {
        "id": "NyV7GX1kjH__"
      },
      "source": [
        "from sklearn import preprocessing\n",
        "min_max_scaler = preprocessing.MinMaxScaler()\n",
        "percent_five_meter_gdp_scaled = min_max_scaler.fit_transform(df14)\n",
        "df14_normalized = pd.DataFrame(percent_five_meter_gdp_scaled)\n",
        "\n",
        "np.set_printoptions(threshold=100)\n",
        "pd.set_option(\"display.max_rows\",None, \"display.max_columns\",None) \n",
        "print(df14_normalized)"
      ],
      "execution_count": null,
      "outputs": []
    },
    {
      "cell_type": "markdown",
      "metadata": {
        "id": "6cBXMgn9lc5t"
      },
      "source": [
        "Urban Land data\n"
      ]
    },
    {
      "cell_type": "code",
      "metadata": {
        "id": "6NfDpOvmlfsA"
      },
      "source": [
        "# Urban land \n",
        "#Total Area(sq.km)\n",
        "\n",
        "total_area= {'values': [1439088,505477,57351,476,517,186139,11043,35595,3098,9297,4999,9978,3331,348,3761,559,458,3065,2599,101649,\n",
        "                        619,2817,12572,3130,6574,5433,40069,190030,21061,24953,59938,3763,9685,10926,5518,1574,31779,7466,9306,176,\n",
        "                        3885,113748,1008,1399,1145,6794,4013,202,4697,484,790,5105,1033,3520,3650,327,1745,573,2637,14741,265,44385,\n",
        "                        1633,805,274,5857,1471,31,3297,1718,149,388054,4644,1112,654,259219,32129,1057,19399,14141,1166,8557,27284,\n",
        "                        12788,5904,241779,10153,3461,201979,26186]}\n",
        "df15 = pd.DataFrame(total_area)"
      ],
      "execution_count": null,
      "outputs": []
    },
    {
      "cell_type": "code",
      "metadata": {
        "id": "NbKsuvWslfxZ"
      },
      "source": [
        "from sklearn import preprocessing\n",
        "min_max_scaler = preprocessing.MinMaxScaler()\n",
        "total_area_scaled = min_max_scaler.fit_transform(df15)\n",
        "df15_normalized = pd.DataFrame(total_area_scaled)\n",
        "\n",
        "np.set_printoptions(threshold=100)\n",
        "pd.set_option(\"display.max_rows\",None, \"display.max_columns\",None) \n",
        "print(df15_normalized)"
      ],
      "execution_count": null,
      "outputs": []
    },
    {
      "cell_type": "code",
      "metadata": {
        "id": "8-s-aUfZpokl"
      },
      "source": [
        "#1 meter urban land\n",
        "# Urban land \n",
        "\n",
        "\n",
        "one_meter_urban= {'values': [14742,3080,212,19,7,987,27,165,4,37,17,116,8,27,2,56,3,1,10,738,26,2,24,12,112,94,374,3763,65,1378,213,44,522,121,\n",
        "                             68,12,500,358,419,1,62,431,6,40,1,5,1,0,1,13,3,45,13,57,1,3,14,43,13,48,2,40,40,6,3,1,19,0,4,5,4,6648,29,5,10,4549,\n",
        "                             497,8,82,57,2,69,361,345,634,820,84,44,667,25]}\n",
        "df16 = pd.DataFrame(one_meter_urban)"
      ],
      "execution_count": null,
      "outputs": []
    },
    {
      "cell_type": "code",
      "metadata": {
        "id": "mq5ylXh7ppIr"
      },
      "source": [
        "from sklearn import preprocessing\n",
        "min_max_scaler = preprocessing.MinMaxScaler()\n",
        "one_meter_urban_scaled = min_max_scaler.fit_transform(df16)\n",
        "df16_normalized = pd.DataFrame(one_meter_urban_scaled)\n",
        "\n",
        "np.set_printoptions(threshold=100)\n",
        "pd.set_option(\"display.max_rows\",None, \"display.max_columns\",None) \n",
        "print(df16_normalized)"
      ],
      "execution_count": null,
      "outputs": []
    },
    {
      "cell_type": "code",
      "metadata": {
        "id": "t6-4iOSUyvfP"
      },
      "source": [
        "#5 meter-Impacted Urban Extent (in sq.km.) \n",
        "# Urban land \n",
        "\n",
        "\n",
        "five_meter_urban= {'values': [ 67479,15294,1802,171,90,5097,55,827,32,288,102,627,21,68,21,332,13,24,101,2815,296,21,133,158,435,292,1473,9499,235,2890,\n",
        "                              833,172,1055,292,272,115,1641,990,888,3,113,2451,37,154,8,35,17,4,11,89,29,143,132,169,2,53,82,214,190,426,33,135,259,44,15,\n",
        "                              16,82,1,20,34,17,34902,372,58,48,19724,3581,84,595,1151,15,724,4782,1337,2431,5333,1200,335,3688,110]}\n",
        "df17 = pd.DataFrame(five_meter_urban)"
      ],
      "execution_count": null,
      "outputs": []
    },
    {
      "cell_type": "code",
      "metadata": {
        "id": "2F7fj7A9yvtr"
      },
      "source": [
        "from sklearn import preprocessing\n",
        "min_max_scaler = preprocessing.MinMaxScaler()\n",
        "five_meter_urban_scaled = min_max_scaler.fit_transform(df17)\n",
        "df17_normalized = pd.DataFrame(five_meter_urban_scaled)\n",
        "\n",
        "np.set_printoptions(threshold=100)\n",
        "pd.set_option(\"display.max_rows\",None, \"display.max_columns\",None) \n",
        "print(df17_normalized)"
      ],
      "execution_count": null,
      "outputs": []
    },
    {
      "cell_type": "code",
      "metadata": {
        "id": "ZBHH6j4m1air"
      },
      "source": [
        "#1 meter-Impacted Urban Extent (in sq.km.)  percent\n",
        "# Urban land \n",
        "\n",
        "\n",
        "percent_one_meter_urban= {'values': [1.024398786,0.609325449,0.369653537,3.991596639,1.353965184,0.5302489,0.244498778,0.463548251,0.129115558,0.397977842,\n",
        "                                     0.340068014,1.162557627,0.240168118,7.75862069,0.053177346,10.01788909,0.655021834,0.032626427,0.384763371,0.726027802,\n",
        "                                     4.200323102,0.070997515,0.190900414,0.383386581,1.703681168,1.730167495,0.933389902,1.98021365,0.308627321,5.522382078,\n",
        "                                     0.355367213,1.16927983,5.389778007,1.107450119,1.232330555,0.762388818,1.573366059,4.795070988,4.502471524,0.568181818,\n",
        "                                     1.595881596,0.378907761,0.595238095,2.859185132,0.087336245,0.073594348,0.024919013,0,0.021290185,2.685950413,0.379746835,\n",
        "                                     0.881488737,1.258470474,1.619318182,0.02739726,0.917431193,0.802292264,7.504363002,0.492984452,0.325622414,0.754716981,\n",
        "                                     0.090120536,2.449479486,0.745341615,1.094890511,0.017073587,1.291638341,0,0.121322414,0.291036088,2.684563758,1.713163632,\n",
        "                                     0.624461671,0.449640288,1.529051988,1.754886795,1.546889103,0.756859035,0.422702201,0.403083233,0.171526587,0.806357368,\n",
        "                                     1.323119777,2.697841727,10.73848238,0.339152697,0.827341672,1.27130887,0.330232351,0.095470862]}\n",
        "df18 = pd.DataFrame(percent_one_meter_urban)"
      ],
      "execution_count": null,
      "outputs": []
    },
    {
      "cell_type": "code",
      "metadata": {
        "id": "ZpJqnJXC1aqG"
      },
      "source": [
        "from sklearn import preprocessing\n",
        "min_max_scaler = preprocessing.MinMaxScaler()\n",
        "percent_one_meter_urban_scaled = min_max_scaler.fit_transform(df18)\n",
        "df18_normalized = pd.DataFrame(percent_one_meter_urban_scaled)\n",
        "\n",
        "np.set_printoptions(threshold=100)\n",
        "pd.set_option(\"display.max_rows\",None, \"display.max_columns\",None) \n",
        "print(df18_normalized)"
      ],
      "execution_count": null,
      "outputs": []
    },
    {
      "cell_type": "code",
      "metadata": {
        "id": "07UNu3Iw38Rk"
      },
      "source": [
        "# 5 meter-Impacted Urban Extent (in sq.km.)  percent\n",
        "# Urban land \n",
        "\n",
        "\n",
        "percent_five_meter_urban= {'values': [4.689011374,3.025656954,3.142055064,35.92436975,17.40812379,2.738276234,0.498053065,2.323360022,1.032924467,\n",
        "                                      3.097773475,2.040408082,6.283824414,0.630441309,19.54022989,0.558362138,59.39177102,2.838427948,0.783034258,\n",
        "                                      3.886110042,2.769333687,47.819063,0.745473908,1.057906459,5.047923323,6.616975966,5.374562857,3.676158626,\n",
        "                                      4.998684418,1.115806467,11.58177373,1.389769428,4.570821153,10.89313371,2.672524254,4.929322218,7.306226175,\n",
        "                                      5.163787407,13.26011251,9.542230819,1.704545455,2.908622909,2.154763161,3.670634921,11.00786276,0.698689956,\n",
        "                                      0.515160436,0.423623225,1.98019802,0.234192037,18.38842975,3.670886076,2.801175318,12.77831559,4.801136364,\n",
        "                                      0.054794521,16.20795107,4.699140401,37.34729494,7.205157376,2.889898921,12.45283019,0.30415681,15.86037967,\n",
        "                                      5.465838509,5.474452555,0.273177395,5.574439157,3.225806452,0.606612072,1.979045402,11.40939597,8.994109067,\n",
        "                                      8.010335917,5.215827338,7.339449541,7.609010142,11.14569392,7.947019868,3.067168411,8.139452655,1.2864494,\n",
        "                                      8.460909197,17.52675561,10.45511417,41.17547425,2.205733335,11.81916675,9.679283444,1.825932399,0.420071794]}\n",
        "df19 = pd.DataFrame(percent_five_meter_urban)"
      ],
      "execution_count": null,
      "outputs": []
    },
    {
      "cell_type": "code",
      "metadata": {
        "id": "jKRBMAhG38iY"
      },
      "source": [
        "from sklearn import preprocessing\n",
        "min_max_scaler = preprocessing.MinMaxScaler()\n",
        "percent_five_meter_urban_scaled = min_max_scaler.fit_transform(df19)\n",
        "df19_normalized = pd.DataFrame(percent_five_meter_urban_scaled)\n",
        "\n",
        "np.set_printoptions(threshold=100)\n",
        "pd.set_option(\"display.max_rows\",None, \"display.max_columns\",None) \n",
        "print(df19_normalized)"
      ],
      "execution_count": null,
      "outputs": []
    },
    {
      "cell_type": "markdown",
      "metadata": {
        "id": "_t0ZlVOx64qO"
      },
      "source": [
        "Wetland data"
      ]
    },
    {
      "cell_type": "code",
      "metadata": {
        "id": "5N6DzFA369Ja"
      },
      "source": [
        "# Wetland  data\n",
        "#Total Area(sq.km)\n",
        "\n",
        "total_area_wetland= {'values': [ 4770864,1651735,158918,5060,245,961242,19765,74082,6039,13573,544,22250,402,8003,2076,24781,891,8915,245,33766,\n",
        "                                22879,13757,138712,2657,9340,4563,119030,342185,39668,24015,125173,698,24416,6043,26396,777,58532,7763,11503,4072,\n",
        "                                13129,831745,35429,3803,9066,184826,23798,351,28219,2307,15129,14717,4984,6966,36120,593,12959,25694,60019,82681,\n",
        "                                4890,14175,13509,7384,19545,91944,2050,1,103206,25912,1468,1366069,44186,897,27528,886017,177558,4485,1839,31303,\n",
        "                                104183,9340,32383,171,46179,579130,105971,7119,432883,33157]}\n",
        "df20 = pd.DataFrame(total_area_wetland)"
      ],
      "execution_count": null,
      "outputs": []
    },
    {
      "cell_type": "code",
      "metadata": {
        "id": "Xx4OOrig684h"
      },
      "source": [
        "from sklearn import preprocessing\n",
        "min_max_scaler = preprocessing.MinMaxScaler()\n",
        "total_area_wetland_scaled = min_max_scaler.fit_transform(df20)\n",
        "df20_normalized = pd.DataFrame(total_area_wetland_scaled)\n",
        "\n",
        "np.set_printoptions(threshold=100)\n",
        "pd.set_option(\"display.max_rows\",None, \"display.max_columns\",None) \n",
        "print(df20_normalized)"
      ],
      "execution_count": null,
      "outputs": []
    },
    {
      "cell_type": "code",
      "metadata": {
        "id": "epGKAJ96-zOp"
      },
      "source": [
        "#1 meter wetland data \n",
        "# Wetland  data\n",
        "\n",
        "one_meter_wetland= {'values': [ 97497,22956,2287,898,68,7370,375,1011,631317,12,315,8,161,9,383,21,277,77,5014,636,389,113,43,\n",
        "                               5,691,1413,17391,4043,1572,1877,78,5708,377,206,169,1671,441,881,159,209,10097,71,524,15,43,28,\n",
        "                               2,1082,86,318,740,193,546,154,11,411,2789,581,454,97,72,1178,176,111,149,73,0,16,37,140,36818,3817,\n",
        "                               3,610,14793,2278,43,64,353,287,398,911,20,13241,10235,1451,140,5606,3038]}\n",
        "df21 = pd.DataFrame(one_meter_wetland)\n"
      ],
      "execution_count": null,
      "outputs": []
    },
    {
      "cell_type": "code",
      "metadata": {
        "id": "tbfjKIBe-zis"
      },
      "source": [
        "from sklearn import preprocessing\n",
        "min_max_scaler = preprocessing.MinMaxScaler()\n",
        "one_meter_wetland_scaled = min_max_scaler.fit_transform(df21)\n",
        "df21_normalized = pd.DataFrame(one_meter_wetland_scaled)\n",
        "\n",
        "np.set_printoptions(threshold=100)\n",
        "pd.set_option(\"display.max_rows\",None, \"display.max_columns\",None) \n",
        "print(df21_normalized)"
      ],
      "execution_count": null,
      "outputs": []
    },
    {
      "cell_type": "code",
      "metadata": {
        "id": "e6kIKAPZBNgC"
      },
      "source": [
        "#5 meter wetland \n",
        "# Wetland  data\n",
        "\n",
        "five_meter_wetland= {'values': [ 364625,109378,11526,4000,164,46736,667,3949,380,7565,82,853,15,779,74,2940,234,2608,147,13326,\n",
        "                                3267,1809,299,314,8,1409,6227,30440,4252,2445,7002,211,6185,606,494,581,4459,2138,1222,219,626,\n",
        "                                39233,551,1268,77,293,220,31,1192,1043,1243,1565,1293,1082,1035,89,1840,4789,5831,4445,1155,446,\n",
        "                                6060,1978,448,529,252,0,192,96,190,132028,18674,20,4296,32841,17666,584,270,1975,1541,2400,11617,\n",
        "                                53,40091,53546,14715,1014,23677,14140]}\n",
        "df22 = pd.DataFrame(five_meter_wetland)"
      ],
      "execution_count": null,
      "outputs": []
    },
    {
      "cell_type": "code",
      "metadata": {
        "id": "j6toFhDJBNwM"
      },
      "source": [
        "from sklearn import preprocessing\n",
        "min_max_scaler = preprocessing.MinMaxScaler()\n",
        "five_meter_wetland_scaled = min_max_scaler.fit_transform(df22)\n",
        "df22_normalized = pd.DataFrame(five_meter_wetland_scaled)\n",
        "\n",
        "np.set_printoptions(threshold=100)\n",
        "pd.set_option(\"display.max_rows\",None, \"display.max_columns\",None) \n",
        "print(df22_normalized)"
      ],
      "execution_count": null,
      "outputs": []
    },
    {
      "cell_type": "code",
      "metadata": {
        "id": "9lBUJf3jDc_M"
      },
      "source": [
        "#Percent - 1 meter wetland data\n",
        "percent_one_meter_wetland= {'values': [2.043592104,1.38981132,1.439106961,17.74703557,27.75510204,0.766716394,1.897293195,1.364703977,1.043219076,\n",
        "                                       9.703087011,2.205882353,1.415730337,1.990049751,2.011745595,0.433526012,1.545538921,2.356902357,3.107122827,\n",
        "                                       31.42857143,14.84925665,2.779841776,2.827651377,0.081463752,1.618366579,0.053533191,15.14354591,1.18709569,\n",
        "                                       5.082338501,10.19209438,6.545908807,1.499524658,11.1747851,23.37811271,6.2386232,0.780421276,21.75032175,\n",
        "                                       2.85484863,5.680793508,7.658871599,3.904715128,1.591895803,1.213953796,0.200400802,13.77859585,0.165453342,\n",
        "                                       0.023265125,0.117656946,0.56980057,3.834296042,3.727785002,2.101923458,5.028198682,3.872391653,7.838070629,\n",
        "                                       0.426356589,1.854974705,3.171541014,10.85467424,0.968026792,0.549098342,1.983640082,0.507936508,8.720112518,\n",
        "                                       2.383531961,0.567920184,0.162055164,3.56097561,0,0.015502975,0.142790985,9.536784741,2.695178648,8.638482777,\n",
        "                                       0.334448161,2.215925603,1.669606791,1.282961061,0.958751394,3.480152257,1.127687442,0.275476805,4.26124197,\n",
        "                                       2.813204459,11.69590643,28.67320644,1.767306132,1.369242529,1.966568338,1.295038151,9.162469463]}\n",
        "df23 = pd.DataFrame(percent_one_meter_wetland)"
      ],
      "execution_count": null,
      "outputs": []
    },
    {
      "cell_type": "code",
      "metadata": {
        "id": "_1naORaqDdPs"
      },
      "source": [
        "from sklearn import preprocessing\n",
        "min_max_scaler = preprocessing.MinMaxScaler()\n",
        "percent_one_meter_wetland_scaled = min_max_scaler.fit_transform(df23)\n",
        "df23_normalized = pd.DataFrame(percent_one_meter_wetland_scaled)\n",
        "\n",
        "np.set_printoptions(threshold=100)\n",
        "pd.set_option(\"display.max_rows\",None, \"display.max_columns\",None) \n",
        "print(df23_normalized)"
      ],
      "execution_count": null,
      "outputs": []
    },
    {
      "cell_type": "code",
      "metadata": {
        "id": "J-VgWtnaFvRx"
      },
      "source": [
        "#Percent - 5 meter wetland data\n",
        "percent_five_meter_wetland= {'values': [ 7.642745633,6.622006557,7.25279704,79.0513834,66.93877551,4.862043065,3.374652163,5.330579628,6.292432522,55.73565166,\n",
        "                                        15.07352941,3.833707865,3.731343284,9.733849806,3.564547206,11.86392801,26.26262626,29.25406618,60,39.46573476,14.27947026,\n",
        "                                        13.14966926,0.21555453,11.81783967,0.085653105,30.8788078,5.231454255,8.895772755,10.71896743,10.18113679,5.5938581,30.22922636,\n",
        "                                        25.33174967,10.02813172,1.871495681,74.77477477,7.618055081,27.54089914,10.62331566,5.378192534,4.768070683,4.716950508,1.555223122,\n",
        "                                        34209834,0.849327156,0.15852748,0.924447433,8.831908832,4.224104327,45.21022974,8.216008989,10.63396073,25.94301766,15.53258685,\n",
        "                                        2.865448505,15.0084317,14.19862644,18.63859267,9.715256835,5.376083985,23.6196319,3.14638448,44.8589829,26.78764897,2.292146329,\n",
        "                                        0.575350213,12.29268293,0,0.186035696,0.370484718,12.94277929,9.664811953,42.26225501,2.229654404,15.60592851,3.706588023,9.949424977,\n",
        "                                        13.02118172,14.68189233,6.309299428,1.479128073,25.69593148,35.87376092,30.9941520586,81651833,9.245937872,13.88587444,14.24357354,\n",
        "                                        5.469607261,42.6455952]}\n",
        "df24 = pd.DataFrame(percent_five_meter_wetland)"
      ],
      "execution_count": 5,
      "outputs": []
    },
    {
      "cell_type": "code",
      "metadata": {
        "id": "82zCCLrIFvYo",
        "colab": {
          "base_uri": "https://localhost:8080/"
        },
        "outputId": "6151d53a-5399-4e2f-976c-e2e586cca0df"
      },
      "source": [
        "from sklearn import preprocessing\n",
        "min_max_scaler = preprocessing.MinMaxScaler()\n",
        "percent_five_meter_wetland_scaled = min_max_scaler.fit_transform(df24)\n",
        "df24_normalized = pd.DataFrame(percent_five_meter_wetland_scaled)\n",
        "\n",
        "np.set_printoptions(threshold=100)\n",
        "pd.set_option(\"display.max_rows\",None, \"display.max_columns\",None) \n",
        "print(df24_normalized)"
      ],
      "execution_count": 6,
      "outputs": [
        {
          "output_type": "stream",
          "text": [
            "               0\n",
            "0   9.360164e-08\n",
            "1   8.110053e-08\n",
            "2   8.882589e-08\n",
            "3   9.681520e-07\n",
            "4   8.198074e-07\n",
            "5   5.954604e-08\n",
            "6   4.132978e-08\n",
            "7   6.528426e-08\n",
            "8   7.706419e-08\n",
            "9   6.826014e-07\n",
            "10  1.846074e-07\n",
            "11  4.695189e-08\n",
            "12  4.569822e-08\n",
            "13  1.192117e-07\n",
            "14  4.365545e-08\n",
            "15  1.452990e-07\n",
            "16  3.216416e-07\n",
            "17  3.582781e-07\n",
            "18  7.348273e-07\n",
            "19  4.833417e-07\n",
            "20  1.748824e-07\n",
            "21  1.610456e-07\n",
            "22  2.639923e-09\n",
            "23  1.447345e-07\n",
            "24  1.049004e-09\n",
            "25  3.781765e-07\n",
            "26  6.407026e-08\n",
            "27  1.089476e-07\n",
            "28  1.312765e-07\n",
            "29  1.246896e-07\n",
            "30  6.850867e-08\n",
            "31  3.702210e-07\n",
            "32  3.102410e-07\n",
            "33  1.228158e-07\n",
            "34  2.292044e-08\n",
            "35  9.157758e-07\n",
            "36  9.329925e-08\n",
            "37  3.372968e-07\n",
            "38  1.301050e-07\n",
            "39  6.586738e-08\n",
            "40  5.839515e-08\n",
            "41  5.776907e-08\n",
            "42  1.904701e-08\n",
            "43  4.189720e-01\n",
            "44  1.040181e-08\n",
            "45  1.941505e-09\n",
            "46  1.132182e-08\n",
            "47  1.081655e-07\n",
            "48  5.173312e-08\n",
            "49  5.536952e-07\n",
            "50  1.006225e-07\n",
            "51  1.302354e-07\n",
            "52  3.177273e-07\n",
            "53  1.902295e-07\n",
            "54  3.509350e-08\n",
            "55  1.838101e-07\n",
            "56  1.738923e-07\n",
            "57  2.282691e-07\n",
            "58  1.189839e-07\n",
            "59  6.584156e-08\n",
            "60  2.892725e-07\n",
            "61  3.853416e-08\n",
            "62  5.493935e-07\n",
            "63  3.280716e-07\n",
            "64  2.807220e-08\n",
            "65  7.046385e-09\n",
            "66  1.505500e-07\n",
            "67  0.000000e+00\n",
            "68  2.278402e-09\n",
            "69  4.537372e-09\n",
            "70  1.585118e-07\n",
            "71  1.183661e-07\n",
            "72  5.175910e-07\n",
            "73  2.730685e-08\n",
            "74  1.911277e-07\n",
            "75  4.539504e-08\n",
            "76  1.218518e-07\n",
            "77  1.594720e-07\n",
            "78  1.798109e-07\n",
            "79  7.727076e-08\n",
            "80  1.811506e-08\n",
            "81  3.147012e-07\n",
            "82  4.393503e-07\n",
            "83  3.795892e-07\n",
            "84  1.000000e+00\n",
            "85  1.132361e-07\n",
            "86  1.700620e-07\n",
            "87  1.744428e-07\n",
            "88  6.698695e-08\n",
            "89  5.222858e-07\n"
          ],
          "name": "stdout"
        }
      ]
    }
  ]
}